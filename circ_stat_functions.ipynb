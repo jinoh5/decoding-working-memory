{
 "cells": [
  {
   "cell_type": "code",
   "execution_count": 10,
   "id": "ba9546ee",
   "metadata": {},
   "outputs": [
    {
     "name": "stdout",
     "output_type": "stream",
     "text": [
      "C:\\Users\\MooreLab\n"
     ]
    }
   ],
   "source": [
    "%cd C:\\Users\\MooreLab"
   ]
  },
  {
   "cell_type": "code",
   "execution_count": 8,
   "id": "9d7cbf32",
   "metadata": {},
   "outputs": [],
   "source": [
    "import numpy as np\n",
    "import math\n",
    "import sympy\n",
    "import scipy\n",
    "import matplotlib.pyplot as plt\n",
    "from scipy import special\n",
    "from sympy import *"
   ]
  },
  {
   "cell_type": "code",
   "execution_count": 12,
   "id": "1c473fce",
   "metadata": {},
   "outputs": [],
   "source": [
    "confidence_matrix = np.load(\"new_conf_matrix.npy\")\n",
    "stim_pos = np.load(\"original_stim_pos.npy\")"
   ]
  },
  {
   "cell_type": "code",
   "execution_count": 17,
   "id": "1b0635c2",
   "metadata": {},
   "outputs": [],
   "source": [
    "# Define some parameters\n",
    "binsize_generative = 2*np.pi/8\n",
    "binsize_fit        = 2*np.pi/100\n",
    "\n",
    "# generate x values\n",
    "theta_generative = np.arange(-np.pi, np.pi - binsize_generative, binsize_generative)\n",
    "theta_fit = np.arange(-np.pi, np.pi - binsize_fit, binsize_fit)\n",
    "\n",
    "theta_generative = np.append(theta_generative, 2.35619449)\n",
    "theta_fit = np.append(theta_fit, 3.0787608100000003)"
   ]
  },
  {
   "cell_type": "code",
   "execution_count": 18,
   "id": "1ffc1c21",
   "metadata": {},
   "outputs": [],
   "source": [
    "def cresultant(X, Y):\n",
    "    R = sum(Y * np.exp(1j*X)) / sum(Y)\n",
    "    return R "
   ]
  },
  {
   "cell_type": "code",
   "execution_count": 19,
   "id": "149c8fde",
   "metadata": {},
   "outputs": [],
   "source": [
    "def cmean(X, Y):\n",
    "    M = np.angle(cresultant(X,Y))\n",
    "    return M"
   ]
  },
  {
   "cell_type": "code",
   "execution_count": 20,
   "id": "fe9968c3",
   "metadata": {},
   "outputs": [
    {
     "name": "stdout",
     "output_type": "stream",
     "text": [
      "0.785529297576096\n"
     ]
    }
   ],
   "source": [
    "mu_fit = cmean(theta_generative, confidence_matrix[124,365,:])\n",
    "print(mu_fit)"
   ]
  },
  {
   "cell_type": "code",
   "execution_count": 21,
   "id": "bb1cbfb2",
   "metadata": {},
   "outputs": [],
   "source": [
    "def cstd(X, Y):\n",
    "    R = np.abs(cresultant(X,Y))\n",
    "    S = np.sqrt(-2 * np.log(R))\n",
    "    return S"
   ]
  },
  {
   "cell_type": "code",
   "execution_count": 22,
   "id": "8fc11055",
   "metadata": {},
   "outputs": [
    {
     "name": "stdout",
     "output_type": "stream",
     "text": [
      "0.0202901993019945\n"
     ]
    }
   ],
   "source": [
    "std_fit = cstd(theta_generative, confidence_matrix[124,365,:])\n",
    "print(std_fit)"
   ]
  },
  {
   "cell_type": "code",
   "execution_count": 23,
   "id": "d029e990",
   "metadata": {},
   "outputs": [],
   "source": [
    "def sd2k(S):\n",
    "    R = np.exp((-np.power(S,2))/2)\n",
    "    K = fastAlinv(R)\n",
    "    return K "
   ]
  },
  {
   "cell_type": "code",
   "execution_count": 29,
   "id": "5760016d",
   "metadata": {},
   "outputs": [
    {
     "name": "stdout",
     "output_type": "stream",
     "text": [
      "[2429.49929888]\n"
     ]
    }
   ],
   "source": [
    "kappa_fit = sd2k(std_fit)\n",
    "print(kappa_fit)"
   ]
  },
  {
   "cell_type": "code",
   "execution_count": 25,
   "id": "349324e2",
   "metadata": {},
   "outputs": [],
   "source": [
    "def fastAlinv(R):\n",
    "    R = np.asarray(R)\n",
    "    R = R.flatten()\n",
    "    #print(R)\n",
    "    length = len(R)\n",
    "    K = np.zeros(length)\n",
    "    \n",
    "    index = np.where((R >= 0) & (R < 0.53))\n",
    "    K[index] = 2 * R[index] + np.power(R[index],3) + ((5 * np.power(R[index], 5))/6)\n",
    "    \n",
    "    index = np.where((R >= 0.53) & (R < 0.85))\n",
    "    K[index] = -0.4 + 1.39 * R[index] + np.divide(0.43, (1-R[index]))\n",
    "    \n",
    "    index = np.where((R >= 0.85) & (R <= 1))\n",
    "    K[index] = np.divide(1, (np.power(R[index], 3) - 4 * np.power(R[index], 2) + 3 * R[index]))\n",
    "    \n",
    "    return K "
   ]
  },
  {
   "cell_type": "code",
   "execution_count": 26,
   "id": "1d9d695f",
   "metadata": {},
   "outputs": [],
   "source": [
    "def besseliln(nu, z):\n",
    "    w = np.log(scipy.special.ive(nu,z)) + np.abs(z.real)\n",
    "#     print(w)\n",
    "    return w "
   ]
  },
  {
   "cell_type": "code",
   "execution_count": 27,
   "id": "1e3d4cff",
   "metadata": {},
   "outputs": [],
   "source": [
    "def vonmisespdf(x, mu, k):\n",
    "    p = np.exp(np.multiply(k, np.cos(x-mu)) - np.log(2*np.pi) - besseliln(0,k))\n",
    "    return p"
   ]
  },
  {
   "cell_type": "code",
   "execution_count": 28,
   "id": "38f78b37",
   "metadata": {},
   "outputs": [],
   "source": [
    "def peakConfidence(mu, k):\n",
    "    peakConfidence_fit = vonmisespdf(mu, mu, k) * binsize_generative\n",
    "    return peakConfidence_fit"
   ]
  },
  {
   "cell_type": "code",
   "execution_count": 30,
   "id": "ea5a4dab",
   "metadata": {},
   "outputs": [
    {
     "name": "stdout",
     "output_type": "stream",
     "text": [
      "[15.44315345]\n"
     ]
    }
   ],
   "source": [
    "peakConfidence_fit = peakConfidence(mu_fit, kappa_fit)\n",
    "print(peakConfidence_fit)"
   ]
  },
  {
   "cell_type": "code",
   "execution_count": 31,
   "id": "38a83488",
   "metadata": {},
   "outputs": [],
   "source": [
    "# Using curve_fit\n",
    "from scipy.optimize import curve_fit"
   ]
  },
  {
   "cell_type": "code",
   "execution_count": 38,
   "id": "4d07c692",
   "metadata": {},
   "outputs": [
    {
     "data": {
      "text/plain": [
       "array([6.04378376e-05, 2.47750300e-07, 1.84212976e-08, 5.04514247e-07,\n",
       "       1.31561578e-05, 9.99827149e-01, 1.00595360e-06, 9.74802147e-05])"
      ]
     },
     "execution_count": 38,
     "metadata": {},
     "output_type": "execute_result"
    }
   ],
   "source": [
    "confidence_matrix[124,365,:]"
   ]
  },
  {
   "cell_type": "code",
   "execution_count": 37,
   "id": "ec43fb6c",
   "metadata": {},
   "outputs": [
    {
     "data": {
      "text/plain": [
       "-2.35619449"
      ]
     },
     "execution_count": 37,
     "metadata": {},
     "output_type": "execute_result"
    }
   ],
   "source": [
    "stim_pos[124]"
   ]
  },
  {
   "cell_type": "code",
   "execution_count": 134,
   "id": "cb3838d1",
   "metadata": {},
   "outputs": [],
   "source": [
    "# x = confidence_matrix[124,365,:]\n",
    "# y = [stim_pos[124], stim_pos[124], stim_pos[124], stim_pos[124], stim_pos[124], stim_pos[124], stim_pos[124], stim_pos[124]]\n",
    "\n",
    "x = [-2.35619449, -1.57079633, -0.78539816,  0, \n",
    "     0.78539816, 1.57079633, 2.35619449, 3.14159265]\n",
    "y = confidence_matrix[100,40,:]\n",
    "\n",
    "def objective(x, alpha, k, mu):\n",
    "    return alpha * np.exp(k * np.cos(x-mu))"
   ]
  },
  {
   "cell_type": "code",
   "execution_count": 140,
   "id": "d71dd693",
   "metadata": {},
   "outputs": [
    {
     "name": "stdout",
     "output_type": "stream",
     "text": [
      "[ 1.32689289e-08  1.81630937e+01 -2.26853412e+00]\n"
     ]
    }
   ],
   "source": [
    "# popt, _ = curve_fit(objective, x, y, p0=[1, 2429, 0.786])\n",
    "popt, _ = curve_fit(objective, x, y, p0=[1.32690438e-08, 30, -2.26853427e+00],\n",
    "                    bounds=([0, 0, -np.pi], [50, 50, np.pi]))\n",
    "# popt, _ = curve_fit(objective, x, y)\n",
    "alpha, k, mu = popt\n",
    "print(popt)"
   ]
  },
  {
   "cell_type": "code",
   "execution_count": 141,
   "id": "49345516",
   "metadata": {},
   "outputs": [
    {
     "data": {
      "image/png": "[encoded data removed]",
      "text/plain": [
       "<Figure size 432x288 with 1 Axes>"
      ]
     },
     "metadata": {
      "needs_background": "light"
     },
     "output_type": "display_data"
    }
   ],
   "source": [
    "# Using Curve_fit     (mu, kappa)\n",
    "# pdf_fit = vonmisespdf(theta_fit, mu, k)\n",
    "pdf_fit = objective(theta_fit, alpha, k, mu)\n",
    "pdf_fit = pdf_fit * binsize_generative\n",
    "plt.plot(theta_fit,pdf_fit)\n",
    "plt.plot(x, confidence_matrix[100,40,:], 'o')\n",
    "plt.show()"
   ]
  },
  {
   "cell_type": "code",
   "execution_count": 35,
   "id": "fa556474",
   "metadata": {},
   "outputs": [
    {
     "data": {
      "image/png": "[encoded data removed]",
      "text/plain": [
       "<Figure size 432x288 with 1 Axes>"
      ]
     },
     "metadata": {
      "needs_background": "light"
     },
     "output_type": "display_data"
    }
   ],
   "source": [
    "# Using vonmises on top  mu,kappa\n",
    "pdf_fit = vonmisespdf(theta_fit, mu_fit, kappa_fit)\n",
    "pdf_fit = pdf_fit * binsize_generative\n",
    "plt.plot(theta_fit,pdf_fit)\n",
    "plt.show()"
   ]
  },
  {
   "cell_type": "code",
   "execution_count": null,
   "id": "6515950a",
   "metadata": {},
   "outputs": [],
   "source": [
    "# PLAYGROUND"
   ]
  },
  {
   "cell_type": "code",
   "execution_count": 1,
   "id": "c95f8829",
   "metadata": {},
   "outputs": [
    {
     "name": "stdout",
     "output_type": "stream",
     "text": [
      "Requirement already satisfied: lmfit in c:\\users\\moorelab\\anaconda\\lib\\site-packages (1.0.3)\n",
      "Requirement already satisfied: uncertainties>=3.0.1 in c:\\users\\moorelab\\anaconda\\lib\\site-packages (from lmfit) (3.1.6)\n",
      "Requirement already satisfied: asteval>=0.9.22 in c:\\users\\moorelab\\anaconda\\lib\\site-packages (from lmfit) (0.9.27)\n",
      "Requirement already satisfied: numpy>=1.18 in c:\\users\\moorelab\\anaconda\\lib\\site-packages (from lmfit) (1.20.3)\n",
      "Requirement already satisfied: scipy>=1.4 in c:\\users\\moorelab\\anaconda\\lib\\site-packages (from lmfit) (1.7.1)\n",
      "Requirement already satisfied: future in c:\\users\\moorelab\\anaconda\\lib\\site-packages (from uncertainties>=3.0.1->lmfit) (0.18.2)\n",
      "Note: you may need to restart the kernel to use updated packages.\n"
     ]
    }
   ],
   "source": [
    "pip install lmfit"
   ]
  },
  {
   "cell_type": "code",
   "execution_count": 4,
   "id": "7885d79e",
   "metadata": {},
   "outputs": [],
   "source": [
    "def vonmises(x, alpha, k, mu):\n",
    "    return alpha * np.exp(k * np.cos(x-mu))"
   ]
  },
  {
   "cell_type": "code",
   "execution_count": 59,
   "id": "7d163d8f",
   "metadata": {},
   "outputs": [
    {
     "name": "stdout",
     "output_type": "stream",
     "text": [
      "parameter names: ['alpha', 'k', 'mu']\n",
      "independent variables: ['x']\n"
     ]
    }
   ],
   "source": [
    "from lmfit import Model\n",
    "\n",
    "gmodel = Model(vonmises)\n",
    "print(f'parameter names: {gmodel.param_names}')\n",
    "print(f'independent variables: {gmodel.independent_vars}')"
   ]
  },
  {
   "cell_type": "code",
   "execution_count": 60,
   "id": "a1a15352",
   "metadata": {},
   "outputs": [],
   "source": [
    "params = gmodel.make_params(alpha=1, k=1, mu=1)"
   ]
  },
  {
   "cell_type": "code",
   "execution_count": 61,
   "id": "40deae02",
   "metadata": {},
   "outputs": [],
   "source": [
    "x = [-2.35619449, -1.57079633, -0.78539816,  0, \n",
    "     0.78539816, 1.57079633, 2.35619449, 3.14159265]\n",
    "y = confidence_matrix[124,365,:]\n",
    "# x = confidence_matrix[124,365,:]\n",
    "# y = [stim_pos[124], stim_pos[124], stim_pos[124], stim_pos[124], stim_pos[124], stim_pos[124], stim_pos[124], stim_pos[124]]"
   ]
  },
  {
   "cell_type": "code",
   "execution_count": 62,
   "id": "9ffcef45",
   "metadata": {},
   "outputs": [],
   "source": [
    "result = gmodel.fit(y, params, x=x)"
   ]
  },
  {
   "cell_type": "code",
   "execution_count": 63,
   "id": "511439e4",
   "metadata": {},
   "outputs": [
    {
     "data": {
      "text/plain": [
       "'[[Model]]\\n    Model(vonmises)\\n[[Fit Statistics]]\\n    # fitting method   = leastsq\\n    # function evals   = 8000\\n    # data points      = 8\\n    # variables        = 3\\n    chi-square         = 2.1063e-08\\n    reduced chi-square = 4.2126e-09\\n    Akaike info crit   = -152.041551\\n    Bayesian info crit = -151.803227\\n##  Warning: uncertainties could not be estimated:\\n[[Variables]]\\n    alpha:  6.4502e-15 (init = 1)\\n    k:      32.6745531 (init = 1)\\n    mu:     1.56882668 (init = 1)'"
      ]
     },
     "execution_count": 63,
     "metadata": {},
     "output_type": "execute_result"
    }
   ],
   "source": [
    "result.fit_report()"
   ]
  },
  {
   "cell_type": "code",
   "execution_count": null,
   "id": "0767c8f1",
   "metadata": {},
   "outputs": [],
   "source": [
    "alpha:  6.4502e-15 (init = 1)\n",
    "k:      32.6745531 (init = 1)   \n",
    "mu:     1.56882668 (init = 1)"
   ]
  },
  {
   "cell_type": "code",
   "execution_count": 64,
   "id": "faf887fb",
   "metadata": {},
   "outputs": [
    {
     "data": {
      "image/png": "[encoded data removed]",
      "text/plain": [
       "<Figure size 432x288 with 1 Axes>"
      ]
     },
     "metadata": {
      "needs_background": "light"
     },
     "output_type": "display_data"
    }
   ],
   "source": [
    "# Using lmfit\n",
    "pdf_fit = vonmises()\n",
    "pdf_fit = pdf_fit * binsize_generative\n",
    "plt.plot(theta_fit,pdf_fit)\n",
    "plt.show()"
   ]
  },
  {
   "cell_type": "code",
   "execution_count": null,
   "id": "26dec83c",
   "metadata": {},
   "outputs": [],
   "source": []
  }
 ],
 "metadata": {
  "kernelspec": {
   "display_name": "Python 3 (ipykernel)",
   "language": "python",
   "name": "python3"
  },
  "language_info": {
   "codemirror_mode": {
    "name": "ipython",
    "version": 3
   },
   "file_extension": ".py",
   "mimetype": "text/x-python",
   "name": "python",
   "nbconvert_exporter": "python",
   "pygments_lexer": "ipython3",
   "version": "3.9.7"
  }
 },
 "nbformat": 4,
 "nbformat_minor": 5
}
