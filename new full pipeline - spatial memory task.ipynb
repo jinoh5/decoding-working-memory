{
 "cells": [
  {
   "cell_type": "code",
   "execution_count": null,
   "id": "a0b27a0a",
   "metadata": {},
   "outputs": [],
   "source": [
    "# %cd to your file  "
   ]
  },
  {
   "cell_type": "code",
   "execution_count": null,
   "id": "eeb836a0",
   "metadata": {
    "scrolled": true
   },
   "outputs": [],
   "source": [
    "# Import functions \n",
    "from grab_data_from_matlab import *\n",
    "from grab_look_mgs_correct_index import *\n",
    "from change_memang_to_integer import * \n",
    "from preprocess_neurons import preprocess_neurons_by_creating_new_index_list\n",
    "from grab_corresponding_memang import *\n",
    "from grab_corresponding_data import * \n",
    "from change_int_pos_to_float_memang import *\n",
    "from circ_stat_functions import *"
   ]
  },
  {
   "cell_type": "code",
   "execution_count": null,
   "id": "3ff059a4",
   "metadata": {},
   "outputs": [],
   "source": [
    "# Import packages \n",
    "import numpy as np\n",
    "import pandas as pd\n",
    "import matplotlib.pyplot as plt\n",
    "from matplotlib.pyplot import figure \n",
    "import seaborn as sns\n",
    "import scipy.io\n",
    "import random\n",
    "import math\n",
    "from scipy import special\n",
    "from sympy import *\n",
    "from scipy.io import savemat\n",
    "from scipy.optimize import curve_fit\n",
    "\n",
    "# Logistic Regression Classifier setup\n",
    "from numpy import mean \n",
    "from numpy import std \n",
    "from sklearn.model_selection import cross_val_predict\n",
    "from sklearn.model_selection import cross_val_score \n",
    "from sklearn.model_selection import LeaveOneOut\n",
    "from sklearn.linear_model import LogisticRegression \n",
    "import scipy.stats as stats"
   ]
  },
  {
   "cell_type": "code",
   "execution_count": null,
   "id": "8e6bedf8",
   "metadata": {},
   "outputs": [],
   "source": [
    "## Building Input\n",
    "total_neurons, task_and_result, memang = grab_data(\"aq_20210921_cells.mat\")\n",
    "look_mgs_correct_index, stimulus_position = grab_look_mgs_correct_index(task_and_result, memang)\n",
    "corresponding_neurons = grab_corresponding_data(total_neurons, look_mgs_correct_index)\n",
    "float_stim_pos, pre_int_stimulus_position = change_memang_to_int(stimulus_position)\n",
    "preprocessed_index_list = preprocess_neurons_by_creating_new_index_list(pre_int_stimulus_position)\n",
    "\n",
    "# Final corresponding neurons and int stimulus position (memang)\n",
    "new_corresponding_neurons = grab_new_corresponding_data(total_neurons, corresponding_neurons, preprocessed_index_list)\n",
    "post_int_stimulus_position = grab_corresponding_memang(pre_int_stimulus_position, preprocessed_index_list)"
   ]
  },
  {
   "cell_type": "code",
   "execution_count": null,
   "id": "240c886d",
   "metadata": {},
   "outputs": [],
   "source": [
    "np.save(\"new_corresponding_neurons\", new_corresponding_neurons)\n",
    "np.save(\"integer_stimulus_position\", post_int_stimulus_position)"
   ]
  },
  {
   "cell_type": "code",
   "execution_count": null,
   "id": "f141e003",
   "metadata": {},
   "outputs": [],
   "source": [
    "# Change the int stimulus position to float \n",
    "stim_pos_to_float = change_int_pos_to_float_memang(post_int_stimulus_position, float_stim_pos)"
   ]
  },
  {
   "cell_type": "code",
   "execution_count": null,
   "id": "bde687ec",
   "metadata": {
    "scrolled": true
   },
   "outputs": [],
   "source": [
    "## Analysis 1\n",
    "# Z-score relative to neuron (axis=0) & leave one out cross validation & multi-logistic regression decoder \n",
    "\n",
    "# Necessary set up \n",
    "loo = LeaveOneOut()\n",
    "model = LogisticRegression(multi_class='multinomial', solver='lbfgs', max_iter=1000)\n",
    "confidence_matrix = np.zeros((total_neurons.shape[2],len(preprocessed_index_list), 8)) #(200,376,8)\n",
    "confidence_matrix[:] = np.nan\n",
    "post_int_stimulus_position = np.array(post_int_stimulus_position)\n",
    "\n",
    "## Multi-classification using the multinomial logistic regression\n",
    "## This does not provide score, but provides confidence matrix of the classifer. (200:tc, 376:trial, 8: stimulus position)\n",
    "for tc_num in range(total_neurons.shape[2]):\n",
    "    print(tc_num)\n",
    "    placeholder = new_corresponding_neurons[:,:,tc_num]\n",
    "    placeholder = placeholder.T # trials x neurons \n",
    "    neuron_zscore = stats.zscore(placeholder, axis=0, nan_policy='propagate')\n",
    "    norm_relative_to_neurons = neuron_zscore[:,~np.isnan(neuron_zscore).any(axis=0)]\n",
    "    \n",
    "    X = norm_relative_to_neurons\n",
    "    y = post_int_stimulus_position\n",
    "    \n",
    "    y_predict_prob = cross_val_predict(model, X, y, cv=loo, method='predict_proba')\n",
    "    confidence_matrix[tc_num,:,:] = y_predict_prob"
   ]
  },
  {
   "cell_type": "code",
   "execution_count": null,
   "id": "e933dabb",
   "metadata": {},
   "outputs": [],
   "source": [
    "# Saving appropriate matrices and stimulus position vectors \n",
    "np.save(\"new_conf_matrix\", confidence_matrix)\n",
    "np.save(\"stim pos float vector\", stim_pos_to_float)\n",
    "np.save(\"stim pos int vector\", post_int_stimulus_position)\n",
    "\n",
    "# Save in matlab data \n",
    "savemat('memang_float_vector.mat', {'memang_float_vector': stim_pos_to_float})\n",
    "savemat('memang_int_vector.mat', {'memang_int_vector': post_int_stimulus_position})"
   ]
  },
  {
   "cell_type": "code",
   "execution_count": null,
   "id": "138d9817",
   "metadata": {},
   "outputs": [],
   "source": [
    "# If I need to load confidence matrix and stim_pos_to_float\n",
    "confidence_matrix = np.load(\"new_conf_matrix.npy\")\n",
    "stim_pos_to_float = np.load(\"stim pos float vector.npy\")"
   ]
  },
  {
   "cell_type": "code",
   "execution_count": null,
   "id": "12ff9f5f",
   "metadata": {},
   "outputs": [],
   "source": [
    "# Input to curve fitting \n",
    "unique_stim_position_float = np.unique(stim_pos_to_float)"
   ]
  },
  {
   "cell_type": "code",
   "execution_count": null,
   "id": "b0212c59",
   "metadata": {
    "scrolled": true
   },
   "outputs": [],
   "source": [
    "# Analysis 2\n",
    "# Von mises curve fitting \n",
    "# Define some parameters\n",
    "binsize_generative = 2*np.pi/8\n",
    "binsize_fit        = 2*np.pi/100\n",
    "\n",
    "# generate x values\n",
    "theta_generative = np.arange(-np.pi, np.pi - binsize_generative, binsize_generative)\n",
    "theta_fit = np.arange(-np.pi, np.pi - binsize_fit, binsize_fit)\n",
    "theta_generative = np.append(theta_generative, 2.35619449)\n",
    "theta_fit = np.append(theta_fit, 3.0787608100000003)\n",
    "\n",
    "# Data obtained using the von mises function originally from matlab (resultant, mu, sd, kappa)\n",
    "resultant_magnitude_matrix = np.zeros((confidence_matrix.shape[1],confidence_matrix.shape[0]))\n",
    "mu_fit = np.zeros((confidence_matrix.shape[1],confidence_matrix.shape[0]))  #376*200 (number of trials x number of tc)\n",
    "sd_fit = np.zeros((confidence_matrix.shape[1],confidence_matrix.shape[0]))\n",
    "kappa_fit = np.zeros((confidence_matrix.shape[1],confidence_matrix.shape[0]))\n",
    "\n",
    "# Curve fitted mu, kappa, peak values\n",
    "curve_fitted_mu = np.zeros((confidence_matrix.shape[1],confidence_matrix.shape[0]))\n",
    "curve_fitted_k = np.zeros((confidence_matrix.shape[1],confidence_matrix.shape[0]))\n",
    "curve_fitted_peak = np.zeros((confidence_matrix.shape[1],confidence_matrix.shape[0]))\n",
    "curve_fitted_peak_confidence = np.zeros((confidence_matrix.shape[1],confidence_matrix.shape[0]))\n",
    "curve_fitted_alpha = np.zeros((confidence_matrix.shape[1],confidence_matrix.shape[0]))\n",
    "\n",
    "for trial_num in range(confidence_matrix.shape[1]):\n",
    "    for tc_num in range(confidence_matrix.shape[0]):\n",
    "        \n",
    "        print(\"trial_num\", trial_num)\n",
    "        print(\"tc_num\", tc_num)\n",
    "        \n",
    "        # Create resultant matrix (using von mises)\n",
    "        result = np.abs(cresultant(theta_generative, confidence_matrix[tc_num, trial_num,:]))\n",
    "        resultant_magnitude_matrix[trial_num, tc_num] = result\n",
    "\n",
    "        # Create mu fit matrix (using von mises)\n",
    "        M = cmean(theta_generative, confidence_matrix[tc_num, trial_num,:])\n",
    "        mu_fit[trial_num, tc_num] = M \n",
    "        \n",
    "        # Create sd_fit matrix (using von mises)\n",
    "        S = cstd(theta_generative, confidence_matrix[tc_num, trial_num,:])\n",
    "        sd_fit[trial_num, tc_num] = S\n",
    "        \n",
    "        # Create kappa fit matrix (using von mises)\n",
    "        K = sd2k(S) \n",
    "        kappa_fit[trial_num, tc_num] = K \n",
    "        \n",
    "        x = unique_stim_position_float\n",
    "        y = confidence_matrix[tc_num, trial_num,:]\n",
    "        \n",
    "        # Von mises curve fitting \n",
    "\n",
    "        popt, _ = curve_fit(objective, x, y, p0 = [20, 50, 1], bounds=([0, 0, -np.pi], [50, 50, np.pi]), maxfev=1000000)\n",
    "        alpha, k, mu = popt\n",
    "        pdf_fit = objective(theta_fit, alpha, k, mu)\n",
    "        \n",
    "        curve_fitted_alpha[trial_num, tc_num] = alpha\n",
    "        curve_fitted_mu[trial_num, tc_num] = mu\n",
    "        curve_fitted_k[trial_num, tc_num] = k\n",
    "        \n",
    "        curve_peakConfidence = objective(mu, alpha, k, mu) \n",
    "#         # curve_peakConfidence = peakConfidence(mu, alpha, k, mu) - same line\n",
    "        curve_fitted_peak_confidence[trial_num, tc_num] = curve_peakConfidence\n",
    "        \n",
    "        peak = np.max(pdf_fit)\n",
    "        curve_fitted_peak[trial_num, tc_num] = peak"
   ]
  },
  {
   "cell_type": "code",
   "execution_count": null,
   "id": "565c16ae",
   "metadata": {},
   "outputs": [],
   "source": [
    "# # Save all the generated matrices \n",
    "# np.save(\"resultant_magnitude\", resultant_magnitude_matrix)\n",
    "# np.save(\"mu_fit\", mu_fit)\n",
    "# np.save(\"sd_fit\", sd_fit)\n",
    "# np.save(\"kappa_fit\", kappa_fit)\n",
    "# np.save(\"curve_fitted_mu\", curve_fitted_mu)\n",
    "# np.save(\"curve_fitted_k\", curve_fitted_k)\n",
    "# np.save(\"curved_fitted_peak\", curved_fitted_peak)\n",
    "np.save(\"curve_fitted_alpha\", curve_fitted_alpha)\n",
    "\n",
    "# # Save resultant and curve fitted maximum peak value to matlab data format \n",
    "# savemat('resultant_magnitude_matrix.mat', {'resultant_magnitude_matrix': resultant_magnitude_matrix})\n",
    "# savemat('curve_fitted_peak.mat', {'curve_fitted_peak': curved_fitted_peak})"
   ]
  },
  {
   "cell_type": "code",
   "execution_count": null,
   "id": "00e2b080",
   "metadata": {},
   "outputs": [],
   "source": [
    "# Plotting the difference between mu_fit and memang - \n",
    "# Take an absolute value of the subtraction between mu and original float stimulus pos \n",
    "\n",
    "subtracted_matrix = np.zeros((376,200))\n",
    "for trial_num in range(mu_fit.shape[0]):\n",
    "    subtraction = np.subtract(mu_fit[trial_num,:], stim_pos_to_float[trial_num])\n",
    "    subtracted_matrix[trial_num,:] = subtraction\n",
    "processed_subtracted_matrix = np.abs(subtracted_matrix)\n",
    "mean_processed_subtracted_matrix = np.mean(processed_subtracted_matrix, axis=0)\n",
    "\n",
    "x=np.linspace(-500,1500, num=len(mean_processed_subtracted_matrix))\n",
    "plt.plot(x,mean_processed_subtracted_matrix)\n",
    "plt.xlabel('Time from Stimulus onset (ms)')\n",
    "plt.ylabel('Absolute diff mean' )\n",
    "plt.title('Absolute difference between mu and memang - mean across trials')\n",
    "plt.show()"
   ]
  },
  {
   "cell_type": "code",
   "execution_count": null,
   "id": "7170cfbc",
   "metadata": {},
   "outputs": [],
   "source": [
    "# Plot SD Fit, average across trials \n",
    "mean_sd_fit = np.mean(sd_fit, axis=0)\n",
    "x=np.linspace(-500,1500, num=len(mean_sd_fit))\n",
    "plt.plot(x, mean_sd_fit)\n",
    "plt.xlabel('Time from Stimulus onset (ms)')\n",
    "plt.ylabel('Mean SD Fit')\n",
    "plt.title('SD Fit (mean across trials)')"
   ]
  },
  {
   "cell_type": "code",
   "execution_count": null,
   "id": "8b316d1f",
   "metadata": {},
   "outputs": [],
   "source": [
    "# Plot resultant, average across trials\n",
    "mean_resultant_magnitude_vec = np.mean(resultant_magnitude_matrix, axis=0)\n",
    "x=np.linspace(-500,1500, num=len(mean_resultant_magnitude_vec))\n",
    "plt.plot(x,mean_resultant_magnitude_vec)\n",
    "plt.xlabel('Time from Stimulus onset (ms)')\n",
    "plt.ylabel('Absolute Mean value of resultant')\n",
    "plt.title('Resultant')"
   ]
  },
  {
   "cell_type": "code",
   "execution_count": null,
   "id": "ba34aa3e",
   "metadata": {
    "scrolled": true
   },
   "outputs": [],
   "source": [
    "# Mean across the trials, peak of the von mises curve fitting plot \n",
    "# peak_plot_matrix = np.load(\"peak_plot_matrix.npy\")\n",
    "\n",
    "mean_peak = np.mean(curved_fitted_peak, axis=0)\n",
    "x=np.linspace(-500,1500, num=len(mean_peak))\n",
    "plt.plot(x,mean_peak)\n",
    "plt.xlabel('Time from Stimulus onset (ms)')\n",
    "plt.ylabel('Mean Maximum Peak Confidence Fit')\n",
    "plt.title('Mean Maximum Peak Confidence Fit (np.max)')"
   ]
  },
  {
   "cell_type": "code",
   "execution_count": null,
   "id": "0d304737",
   "metadata": {},
   "outputs": [],
   "source": [
    "curved_fitted_mean_peak_confidence = np.mean(curved_fitted_peak_confidence, axis=0)\n",
    "x=np.linspace(-500,1500, num=len(curved_fitted_mean_peak_confidence))\n",
    "plt.plot(x,mean_peak)\n",
    "plt.xlabel('Time from Stimulus onset (ms)')\n",
    "plt.ylabel('Mean Peak Confidence Fit')\n",
    "plt.title('Mean Peak Confidence Fit')"
   ]
  },
  {
   "cell_type": "code",
   "execution_count": null,
   "id": "b2829f59",
   "metadata": {},
   "outputs": [],
   "source": [
    "subtracted_matrix_2 = np.zeros((376,200))\n",
    "for trial_num in range(curve_fitted_mu.shape[0]):\n",
    "    subtraction = np.subtract(curve_fitted_mu[trial_num,:], stim_pos_to_float[trial_num])\n",
    "    subtracted_matrix_2[trial_num,:] = subtraction\n",
    "processed_subtracted_matrix_2 = np.abs(subtracted_matrix_2)\n",
    "mean_processed_subtracted_matrix_2 = np.mean(processed_subtracted_matrix_2, axis=0)\n",
    "\n",
    "x=np.linspace(-500,1500, num=len(mean_processed_subtracted_matrix_2))\n",
    "plt.plot(x,mean_processed_subtracted_matrix_2)\n",
    "plt.xlabel('Time from Stimulus onset (ms)')\n",
    "plt.ylabel('Absolute diff mean' )\n",
    "plt.title('Absolute difference between curve fitted mu and memang - mean across trials')\n",
    "plt.show()"
   ]
  },
  {
   "cell_type": "code",
   "execution_count": null,
   "id": "9d6e7e89",
   "metadata": {},
   "outputs": [],
   "source": [
    "# Curve fitted k\n",
    "mean_curve_fitted_k = np.mean(curve_fitted_k, axis=0)\n",
    "x=np.linspace(-500,1500, num=len(mean_curve_fitted_k))\n",
    "plt.plot(x,mean_curve_fitted_k)\n",
    "plt.xlabel('Time from Stimulus onset (ms)')\n",
    "plt.ylabel('Curve fitted K')\n",
    "plt.title('Mean Curve fitted K')"
   ]
  },
  {
   "cell_type": "code",
   "execution_count": null,
   "id": "f8ff4a04",
   "metadata": {},
   "outputs": [],
   "source": [
    "# Kappa\n",
    "mean_kappa_fit = np.mean(kappa_fit, axis=0)\n",
    "x=np.linspace(-500,1500, num=len(mean_kappa_fit))\n",
    "plt.plot(x,mean_kappa_fit)\n",
    "plt.xlabel('Time from Stimulus onset (ms)')\n",
    "plt.ylabel('Kappa Fit')\n",
    "plt.title('Mean Kappa Fit ')"
   ]
  },
  {
   "cell_type": "code",
   "execution_count": null,
   "id": "e5656b15",
   "metadata": {},
   "outputs": [],
   "source": []
  }
 ],
 "metadata": {
  "kernelspec": {
   "display_name": "Python 3 (ipykernel)",
   "language": "python",
   "name": "python3"
  },
  "language_info": {
   "codemirror_mode": {
    "name": "ipython",
    "version": 3
   },
   "file_extension": ".py",
   "mimetype": "text/x-python",
   "name": "python",
   "nbconvert_exporter": "python",
   "pygments_lexer": "ipython3",
   "version": "3.9.12"
  }
 },
 "nbformat": 4,
 "nbformat_minor": 5
}
